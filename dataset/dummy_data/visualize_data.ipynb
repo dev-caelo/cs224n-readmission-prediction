{
 "cells": [
  {
   "cell_type": "code",
   "execution_count": 1,
   "metadata": {},
   "outputs": [],
   "source": [
    "import pandas as pd"
   ]
  },
  {
   "cell_type": "code",
   "execution_count": 14,
   "metadata": {},
   "outputs": [],
   "source": [
    "data = pd.read_csv('/Users/shriyareddy/Downloads/master_df.csv')\n",
    "\n",
    "patient_info = pd.read_csv('/Users/shriyareddy/Downloads/patients.csv')\n",
    "\n",
    "data_discharge_text = pd.read_csv('/Users/shriyareddy/Downloads/discharge.csv')"
   ]
  },
  {
   "cell_type": "code",
   "execution_count": 19,
   "metadata": {},
   "outputs": [],
   "source": [
    "data_discharge_master = pd.merge(data, data_discharge_text, on='hadm_id', how='inner')\n",
    "data_discharge_master = data_discharge_master.rename(columns={'subject_id_x': 'subject_id'})\n",
    "data_discharge_master = data_discharge_master.drop('subject_id_y', axis=1)\n",
    "\n",
    "data_discharge_master = pd.merge(data_discharge_master, patient_info, on='subject_id', how='inner')"
   ]
  },
  {
   "cell_type": "code",
   "execution_count": 22,
   "metadata": {},
   "outputs": [
    {
     "name": "stdout",
     "output_type": "stream",
     "text": [
      "Index(['hadm_id', 'subject_id', 'admittime', 'dischtime', 'admission_type',\n",
      "       'admission_location', 'discharge_location', 'insurance', 'language',\n",
      "       'marital_status', 'race', 'edregtime', 'edouttime',\n",
      "       'time_until_next_admission', 'diagnoses_seq_num',\n",
      "       'diagnoses_long_title', 'diagnoses_icd', 'procedures_seq_num',\n",
      "       'chartdate', 'procedures_long_title', 'procedures_icd', 'note_id',\n",
      "       'note_type', 'note_seq', 'charttime', 'storetime', 'text', 'gender',\n",
      "       'anchor_age', 'anchor_year', 'anchor_year_group', 'dod'],\n",
      "      dtype='object')\n"
     ]
    }
   ],
   "source": [
    "print(data_discharge_master.columns)"
   ]
  },
  {
   "cell_type": "code",
   "execution_count": 24,
   "metadata": {},
   "outputs": [],
   "source": [
    "data_discharge_master.to_csv('/Users/shriyareddy/Downloads/discharge_master.csv', index=False)"
   ]
  },
  {
   "cell_type": "code",
   "execution_count": 13,
   "metadata": {},
   "outputs": [
    {
     "data": {
      "text/plain": [
       "0         ['Portal hypertension', 'Other ascites', 'Cirr...\n",
       "1         ['Unspecified viral hepatitis C with hepatic c...\n",
       "2         ['Chronic hepatitis C without mention of hepat...\n",
       "3         ['Unspecified intracapsular fracture of left f...\n",
       "4         ['Malignant neoplasm of kidney, except pelvis'...\n",
       "                                ...                        \n",
       "187987    ['Encounter for antineoplastic chemotherapy', ...\n",
       "187988    ['Disruption of external operation (surgical) ...\n",
       "187989    ['Infection following a procedure, superficial...\n",
       "187990    ['Cerebral artery occlusion, unspecified with ...\n",
       "187991    ['Intracerebral hemorrhage', 'Cerebral edema',...\n",
       "Name: diagnoses_long_title, Length: 187992, dtype: object"
      ]
     },
     "execution_count": 13,
     "metadata": {},
     "output_type": "execute_result"
    }
   ],
   "source": [
    "data_discharge_master[\"diagnoses_long_title\"]"
   ]
  },
  {
   "cell_type": "code",
   "execution_count": null,
   "metadata": {},
   "outputs": [],
   "source": []
  }
 ],
 "metadata": {
  "kernelspec": {
   "display_name": "PAWS",
   "language": "python",
   "name": "python3"
  },
  "language_info": {
   "codemirror_mode": {
    "name": "ipython",
    "version": 3
   },
   "file_extension": ".py",
   "mimetype": "text/x-python",
   "name": "python",
   "nbconvert_exporter": "python",
   "pygments_lexer": "ipython3",
   "version": "3.10.16"
  }
 },
 "nbformat": 4,
 "nbformat_minor": 2
}
