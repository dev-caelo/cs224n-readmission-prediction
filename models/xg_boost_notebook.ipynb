{
 "cells": [
  {
   "cell_type": "code",
   "execution_count": 114,
   "metadata": {},
   "outputs": [],
   "source": [
    "import numpy as np\n",
    "import pandas as pd\n",
    "from collections import defaultdict\n",
    "\n",
    "from train_utils import datasets, train_and_eval_model, run_hparam_search, select_features_with_lasso\n",
    "\n",
    "from xgboost import XGBRegressor, XGBClassifier\n",
    "from sklearn.model_selection import train_test_split\n",
    "from sklearn.metrics import mean_squared_error\n",
    "\n",
    "from sklearn.preprocessing import OneHotEncoder\n",
    "from sklearn.compose import ColumnTransformer\n",
    "from sklearn.pipeline import Pipeline\n",
    "from sklearn.impute import SimpleImputer\n",
    "from sklearn.preprocessing import StandardScaler\n"
   ]
  },
  {
   "cell_type": "code",
   "execution_count": 121,
   "metadata": {},
   "outputs": [],
   "source": [
    "admissions = pd.read_csv(\"mimic_admissions.csv\").drop(\"hadm_id\", axis=1)\n",
    "diagnoses = pd.read_csv(\"mimic_diagnoses_icd.csv\").drop(\"hadm_id\", axis=1)\n",
    "discharge = pd.read_csv(\"mimic_discharge_summaries.csv\").drop(\"hadm_id\", axis=1)\n",
    "ed = pd.read_csv(\"mimic_ed_visits.csv\").drop([\"edregtime\", \"edouttime\", \"hadm_id\"], axis=1)\n",
    "lace = pd.read_csv(\"mimic_lace_scores.csv\").drop(\"hadm_id\", axis=1)\n",
    "\n",
    "merged_df = pd.concat(objs=[admissions, diagnoses, discharge, ed, lace], axis=1, join=\"outer\")\n",
    "\n",
    "merged_df.to_csv(\"merged_2.csv\")\n"
   ]
  },
  {
   "cell_type": "code",
   "execution_count": 125,
   "metadata": {},
   "outputs": [
    {
     "name": "stderr",
     "output_type": "stream",
     "text": [
      "/var/folders/9v/_3psvbl52k53mrrcnt2q29rr0000gq/T/ipykernel_65133/2663262777.py:9: DtypeWarning: Columns (2,3,5,6,7,14,16,23) have mixed types. Specify dtype option on import or set low_memory=False.\n",
      "  df = pd.read_csv(\"merged_2.csv\")\n"
     ]
    },
    {
     "name": "stdout",
     "output_type": "stream",
     "text": [
      "Columns in dataset: Index(['Unnamed: 0', 'subject_id', 'admittime', 'dischtime', 'deathtime',\n",
      "       'admission_type', 'edregtime', 'edouttime', 'los_days', 'subject_id.1',\n",
      "       'icd_code', 'icd_version', 'diagnosis_description', 'subject_id.2',\n",
      "       'text', 'subject_id.3', 'disposition', 'subject_id.4', 'l_score',\n",
      "       'a_score', 'c_score', 'e_score', 'lace_total', 'readmission_risk'],\n",
      "      dtype='object')\n",
      "Unique values in readmission_risk: ['Moderate' 'High' nan]\n",
      "Model Accuracy: 1.0000\n"
     ]
    }
   ],
   "source": [
    "import pandas as pd\n",
    "import numpy as np\n",
    "from sklearn.model_selection import train_test_split\n",
    "import xgboost as xgb\n",
    "from sklearn.metrics import accuracy_score\n",
    "\n",
    "# Load the dataset\n",
    "# df = pd.read_csv(\"merged_data.csv\")\n",
    "df = pd.read_csv(\"merged_2.csv\")\n",
    "\n",
    "\n",
    "# Print column names to debug\n",
    "print(\"Columns in dataset:\", df.columns)\n",
    "\n",
    "# Check unique values in readmission_risk\n",
    "print(\"Unique values in readmission_risk:\", df[\"readmission_risk\"].unique())\n",
    "\n",
    "# Map categorical readmission risk to numerical values\n",
    "risk_mapping = {\"Moderate\": 0, \"High\": 1}  # Adjust mapping if needed\n",
    "df[\"readmission_risk\"] = df[\"readmission_risk\"].map(risk_mapping)\n",
    "\n",
    "# Drop any NaN values resulting from mapping\n",
    "df = df.dropna(subset=[\"readmission_risk\"])\n",
    "\n",
    "# Ensure the dataset isn't empty after processing\n",
    "if df.empty:\n",
    "    raise ValueError(\"Dataset is empty after processing. Check readmission_risk values.\")\n",
    "\n",
    "# Identify categorical features\n",
    "cat_features = df.select_dtypes(include=[\"object\"]).columns.tolist()\n",
    "\n",
    "# Encode categorical features\n",
    "preprocessor = ColumnTransformer(\n",
    "    transformers=[\n",
    "        ('cat', OneHotEncoder(handle_unknown='ignore', sparse_output=False), cat_features)\n",
    "    ],\n",
    "    remainder='passthrough'\n",
    ")\n",
    "\n",
    "# Select features and target variable\n",
    "# X = df.drop(columns=[\"readmission_risk\", \"subject_id\", \"admittime\", \"dischtime\", \"deathtime\", \"edregtime\", \"edouttime\", \"text\", \"hadm_id\"])\n",
    "X = df.drop(\"readmission_risk\", axis=1)\n",
    "y = df[\"readmission_risk\"]\n",
    "\n",
    "# Convert target to numeric if needed\n",
    "y = pd.to_numeric(y, errors='coerce')\n",
    "\n",
    "\n",
    "# Split into training and testing sets\n",
    "X_train, X_test, y_train, y_test = train_test_split(X, y, test_size=0.2, random_state=42)\n",
    "\n",
    "X_train = preprocessor.fit_transform(X_train)\n",
    "X_test = preprocessor.transform(X_test)\n",
    "\n",
    "\n",
    "# Ensure data is not empty after split\n",
    "if len(X_train) == 0 or len(X_test) == 0:\n",
    "    raise ValueError(\"Training or testing set is empty. Adjust test_size or check data filtering.\")\n",
    "\n",
    "# Train XGBoost model\n",
    "model = xgb.XGBClassifier(objective=\"multi:softmax\", num_class=3, eval_metric=\"mlogloss\", random_state=42)\n",
    "model.fit(X_train, y_train)\n",
    "\n",
    "\n",
    "# Make predictions\n",
    "y_pred = model.predict(X_test)\n",
    "\n",
    "# Evaluate model\n",
    "accuracy = accuracy_score(y_test, y_pred)\n",
    "print(f\"Model Accuracy: {accuracy:.4f}\")\n"
   ]
  }
 ],
 "metadata": {
  "kernelspec": {
   "display_name": "biomedin202_1",
   "language": "python",
   "name": "python3"
  },
  "language_info": {
   "codemirror_mode": {
    "name": "ipython",
    "version": 3
   },
   "file_extension": ".py",
   "mimetype": "text/x-python",
   "name": "python",
   "nbconvert_exporter": "python",
   "pygments_lexer": "ipython3",
   "version": "3.12.8"
  }
 },
 "nbformat": 4,
 "nbformat_minor": 2
}
