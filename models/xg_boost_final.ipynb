{
 "cells": [
  {
   "cell_type": "code",
   "execution_count": 3,
   "metadata": {},
   "outputs": [],
   "source": [
    "import numpy as np\n",
    "import pandas as pd\n",
    "from collections import defaultdict\n",
    "\n",
    "from xgboost import XGBRegressor, XGBClassifier\n",
    "from sklearn.model_selection import train_test_split\n",
    "from sklearn.metrics import mean_squared_error\n",
    "\n",
    "from sklearn.preprocessing import OneHotEncoder\n",
    "from sklearn.compose import ColumnTransformer\n",
    "from sklearn.pipeline import Pipeline\n",
    "from sklearn.impute import SimpleImputer\n",
    "from sklearn.preprocessing import StandardScaler\n",
    "\n",
    "import xgboost as xgb\n",
    "from sklearn.preprocessing import LabelEncoder\n",
    "from sklearn.metrics import accuracy_score"
   ]
  },
  {
   "cell_type": "code",
   "execution_count": 15,
   "metadata": {},
   "outputs": [
    {
     "name": "stderr",
     "output_type": "stream",
     "text": [
      "/Users/coding/opt/miniconda3/envs/biomedin202_1/lib/python3.12/site-packages/xgboost/core.py:158: UserWarning: [19:04:15] WARNING: /var/folders/k1/30mswbxs7r1g6zwn8y4fyt500000gp/T/abs_d9k8pmaj4_/croot/xgboost-split_1724073758172/work/src/learner.cc:740: \n",
      "Parameters: { \"use_label_encoder\" } are not used.\n",
      "\n",
      "  warnings.warn(smsg, UserWarning)\n"
     ]
    },
    {
     "name": "stdout",
     "output_type": "stream",
     "text": [
      "Model Accuracy: 0.2785\n"
     ]
    }
   ],
   "source": [
    "# Load dataset\n",
    "df = pd.read_csv(\"../../processed_data/master_df.csv\")\n",
    "\n",
    "# Drop irrelevant columns\n",
    "columns_to_drop = [\"hadm_id\", \"subject_id\", \"admittime\", \"dischtime\", \"edregtime\", \"edouttime\", \"chartdate\"]\n",
    "df.drop(columns=columns_to_drop, inplace=True, errors='ignore')\n",
    "\n",
    "# Convert sequence number columns to numeric\n",
    "df[\"diagnoses_seq_num\"] = pd.to_numeric(df[\"diagnoses_seq_num\"], errors='coerce')\n",
    "df[\"procedures_seq_num\"] = pd.to_numeric(df[\"procedures_seq_num\"], errors='coerce')\n",
    "\n",
    "# Handle categorical variables\n",
    "categorical_columns = [\"admission_type\", \"admission_location\", \"discharge_location\", \"insurance\", \"language\", \"marital_status\", \"race\", \"diagnoses_long_title\", \"diagnoses_icd\", \"procedures_long_title\", \"procedures_icd\"]\n",
    "label_encoders = {}\n",
    "\n",
    "for col in categorical_columns:\n",
    "    if col in df.columns:\n",
    "        df[col] = df[col].astype(str)  # Convert to string before encoding\n",
    "        le = LabelEncoder()\n",
    "        df[col] = le.fit_transform(df[col])\n",
    "        label_encoders[col] = le\n",
    "\n",
    "# Handle missing values\n",
    "df.fillna(-1, inplace=True)  # Fill missing values with -1\n",
    "\n",
    "# Define features and target\n",
    "X = df.drop(columns=[\"time_until_next_admission\"])\n",
    "y = df[\"time_until_next_admission\"]\n",
    "\n",
    "# Encode target variable\n",
    "le_target = LabelEncoder()\n",
    "y = le_target.fit_transform(y.astype(str))\n",
    "\n",
    "# Split dataset\n",
    "X_train, X_test, y_train, y_test = train_test_split(X, y, test_size=0.2)\n",
    "\n",
    "# Train XGBoost model\n",
    "model = xgb.XGBClassifier(objective=\"multi:softmax\", num_class=len(np.unique(y)), eval_metric=\"mlogloss\", use_label_encoder=False)\n",
    "model.fit(X_train, y_train)\n",
    "\n",
    "# Make predictions\n",
    "y_pred = model.predict(X_test)\n",
    "\n",
    "# Evaluate model\n",
    "accuracy = accuracy_score(y_test, y_pred)\n",
    "print(f\"Model Accuracy: {accuracy:.4f}\")"
   ]
  }
 ],
 "metadata": {
  "kernelspec": {
   "display_name": "Python 3",
   "language": "python",
   "name": "python3"
  },
  "language_info": {
   "codemirror_mode": {
    "name": "ipython",
    "version": 3
   },
   "file_extension": ".py",
   "mimetype": "text/x-python",
   "name": "python",
   "nbconvert_exporter": "python",
   "pygments_lexer": "ipython3",
   "version": "3.10.12"
  }
 },
 "nbformat": 4,
 "nbformat_minor": 2
}
